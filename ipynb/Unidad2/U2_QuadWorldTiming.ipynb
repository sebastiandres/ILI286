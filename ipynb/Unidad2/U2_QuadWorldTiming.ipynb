{
 "metadata": {
  "name": "",
  "signature": "sha256:c839346f4da1cf3675b294f76cb6f82b95643741a723b60f36eb2fd8ba7d54ac"
 },
 "nbformat": 3,
 "nbformat_minor": 0,
 "worksheets": [
  {
   "cells": [
    {
     "cell_type": "markdown",
     "metadata": {},
     "source": [
      "***\n",
      "\n",
      "### DISCLAIMER ###\n",
      "\n",
      "El presente ipython notebook ha sido creado para el curso **ILI286 - Computaci\u00f3n Cient\u00edfica 2**, del [Departamento de Inform\u00e1tica](http://www.inf.utfsm.cl/), [Universidad T\u00e9cnica Federico Santa Mar\u00eda](http://www.utfsm.cl/). \n",
      "\n",
      "El material ha sido creado por Claudio Torres y Sebastian Flores, y es distribuido sin restricciones. En caso de encontrar un error, por favor no dude en contactarnos.\n",
      "\n",
      "***"
     ]
    },
    {
     "cell_type": "markdown",
     "metadata": {},
     "source": [
      "# Integraci\u00f3n Num\u00e9rica - Tiempos de ejecuci\u00f3n #\n",
      "\n",
      "Primero que nada importamos las librer\u00edas num\u00e9ricas necesarias."
     ]
    },
    {
     "cell_type": "code",
     "collapsed": false,
     "input": [
      "import numpy as np\n",
      "from matplotlib import pyplot as plt\n",
      "import time\n",
      "import math"
     ],
     "language": "python",
     "metadata": {},
     "outputs": [],
     "prompt_number": 1
    },
    {
     "cell_type": "markdown",
     "metadata": {},
     "source": [
      "## Timing the code ##\n",
      "Usamos el siguiente decorador para medir los tiempos de las funciones"
     ]
    },
    {
     "cell_type": "code",
     "collapsed": false,
     "input": [
      "def timeit(f):\n",
      "  def timed(*args, **kw):\n",
      "    N = 10\n",
      "    T = 0.\n",
      "    for i in xrange(N):\n",
      "      ts = time.time()\n",
      "      result = f(*args, **kw)\n",
      "      te = time.time()\n",
      "      T += (te-ts)*1000. # In ms  \n",
      "    return T/N\n",
      "  return timed"
     ],
     "language": "python",
     "metadata": {},
     "outputs": [],
     "prompt_number": 2
    },
    {
     "cell_type": "markdown",
     "metadata": {},
     "source": [
      "## Midpoint ##\n",
      "\n",
      "Al aplicar a un intervalo $[a,b]$ subdividido en $m$ segmentos y $m+1 \\ \\ $ puntos, $x_0, ..., x_{m} \\ \\ $, tenemos\n",
      "\n",
      "\\begin{align*}\n",
      "\\int_{a}^{b} f(x) dx = \\sum_{i=1}^{m} \\int_{x_{i-1}}^{x_{i}} f(x) dx  \\\\\n",
      "                     = \\sum_{i=1}^{m} h f(w_i) + \\frac{(b-a)}{24} h^2 f''(c)\n",
      "\\end{align*}\n",
      "donde $h=(b-a)/m \\ \\ \\ $, \n",
      "$w_i=\\frac{1}{2}(x_{i-1}+x_{i})\\ \\ \\ $ \n",
      "y \n",
      "$\\ \\ c \\in [a, b]$"
     ]
    },
    {
     "cell_type": "code",
     "collapsed": false,
     "input": [
      "@timeit\n",
      "def midpoint(myfun, N, a, b):\n",
      "  f = np.vectorize(myfun) # So we can apply it to arrays without trouble\n",
      "  x = np.linspace(a, b, N+1) # We want N bins, so N+1 points  \n",
      "  dx = x[1]-x[0]\n",
      "  midpoints = x[:-1] + .5*dx\n",
      "  midpoint_values = f(midpoints)\n",
      "  int_val = dx*midpoint_values.sum()\n",
      "  return int_val"
     ],
     "language": "python",
     "metadata": {},
     "outputs": [],
     "prompt_number": 3
    },
    {
     "cell_type": "markdown",
     "metadata": {},
     "source": [
      "## Regla del Trapecio ##\n",
      "Al aplicar a un intervalo $[a,b]$ subdividido en $m$ segmentos y $m+1 \\ \\ $ puntos, $x_0, ..., x_{m} \\ \\ $, tenemos\n",
      "\\begin{align*}\n",
      "\\int_{x_0}^{x_1} f(x) dx = \\sum_{i=1}^{m} \\int_{x_{i-1}}^{x_{i}} f(x) dx \n",
      "                         = \\frac{h}{2}\\left[f(a) + 2\\sum_{i=1}^{m-1} f(x_i) + f(b)\\right] - (b-a) \\frac{h^2}{12} f''(c)\n",
      "\\end{align*}\n",
      "donde $h=(b-a)/m \\ \\ \\ $ y $c \\in [a, b]$\n"
     ]
    },
    {
     "cell_type": "code",
     "collapsed": false,
     "input": [
      "@timeit\n",
      "def trapezoid(myfun, N, a, b):\n",
      "  f = np.vectorize(myfun) # So we can apply it to arrays without trouble\n",
      "  x = np.linspace(a, b, N+1) # We want N bins, so N+1 points  \n",
      "  dx = x[1]-x[0]\n",
      "  xleft = x[:-1]\n",
      "  xright = x[1:]\n",
      "  int_val = 0.5*dx*sum((f(xleft)+f(xright)))\n",
      "  return int_val"
     ],
     "language": "python",
     "metadata": {},
     "outputs": [],
     "prompt_number": 4
    },
    {
     "cell_type": "markdown",
     "metadata": {},
     "source": [
      "## Regla de Simpsons ##\n",
      "\n",
      "Al aplicar a un intervalo $[a,b]$ subdividido en $m$ segmentos y $m+1 \\ \\ $ puntos, $x_0, ..., x_{m+1} \\ \\ $, con $m$ par, tenemos\n",
      "\n",
      "\\begin{align*}\n",
      "\\int_{a}^{b} f(x) dx = \\frac{h}{3}\\left(f(x_0) + \\sum_{i=1}^{N-1} 4 f(x_i) +  f(x_N)\\right) - (b-a)\\frac{h^4}{90} f^{(4)}(c)\n",
      "\\end{align*}\n",
      "con $h=(x_{i+1}-x_i) \\ \\ $ y $c \\in [a, b]$\n"
     ]
    },
    {
     "cell_type": "code",
     "collapsed": false,
     "input": [
      "@timeit\n",
      "def simpsons(myfun, N, a, b):\n",
      "  f = np.vectorize(myfun) # So we can apply it to arrays without trouble\n",
      "  x = np.linspace(a, b, N+1) # We want N bins, so N+1 points\n",
      "  if N%2==1:\n",
      "    return np.nan\n",
      "  dx = x[1]-x[0]\n",
      "  xleft   = x[:-2:2]\n",
      "  xmiddle = x[1::2]\n",
      "  xright  = x[2::2]\n",
      "  int_val = (dx/3) * sum((f(xleft)+4*f(xmiddle)+f(xright)))\n",
      "  return int_val"
     ],
     "language": "python",
     "metadata": {},
     "outputs": [],
     "prompt_number": 5
    },
    {
     "cell_type": "markdown",
     "metadata": {},
     "source": [
      "## Cuadratura Gaussiana ##\n",
      "\n",
      "Este m\u00e9todo utiliza la siguiente aproximaci\u00f3n, para un intervalo $[-1,1]$:\n",
      "\\begin{align*}\n",
      "\\int_{a}^{b} f(x) dx = \\sum_{i=1}^n w_i f(x_i)+\\mathcal{O}(h^{2n-1})\n",
      "\\end{align*}\n",
      "donde los $x_i$ se definen como las ra\u00edces del n-\u00e9simo polinomio de Legendre $p_n(x)$:\n",
      "\\begin{align*}\n",
      "p_n(x) = \\frac{1}{2^n n!} \\frac{d^n}{dx^n} \\left[ (x^2 - 1)^n \\right]\n",
      "\\end{align*}\n",
      "\n",
      "Los $w_i$ son ...\n",
      "\n",
      "\n",
      "\n",
      "Para un intervalo arbitrario $[a,b]$ es necesario trasladar apropiadamente la funci\u00f3n.\n",
      "\n"
     ]
    },
    {
     "cell_type": "code",
     "collapsed": false,
     "input": [
      "@timeit\n",
      "def gaussianquad(myfun, N, a, b):\n",
      "  f = np.vectorize(myfun) # So we can apply it to arrays without trouble\n",
      "  x, w = gaussian_nodes_and_weights(N, a, b)\n",
      "  int_val = sum( w * f(x) )\n",
      "  return int_val\n",
      "\n",
      "def gaussian_nodes_and_weights(N, a, b):\n",
      "  if N==1: return np.array([1]), np.array([2])\n",
      "  beta = .5 / np.sqrt(1.-(2.*np.arange(1.,N))**(-2))\n",
      "  T = np.diag(beta,1) + np.diag(beta,-1)\n",
      "  D, V = np.linalg.eigh(T)\n",
      "  x = D\n",
      "  x = .5 * ( (b-a)*x + b + a) # Rescaling\n",
      "  w = 2*V[0,:]**2\n",
      "  w = .5*(b-a)*w\n",
      "  return x, w"
     ],
     "language": "python",
     "metadata": {},
     "outputs": [],
     "prompt_number": 6
    },
    {
     "cell_type": "markdown",
     "metadata": {},
     "source": [
      "## Convergencia ##\n",
      "\n",
      "A continuaci\u00f3n compararemos gr\u00e1ficamente la convergencia de estos m\u00e9todos:"
     ]
    },
    {
     "cell_type": "code",
     "collapsed": false,
     "input": [
      "def get_error(quadrature_rule, myfun, Nrange, a, b, true_value):\n",
      "  quad_error = []\n",
      "  for N in Nrange:\n",
      "    error = np.abs(true_value - quadrature_rule(myfun, N, a, b) )\n",
      "    if error<1E-16:\n",
      "      quad_error.append(1E-16)\n",
      "    else:\n",
      "      quad_error.append(error)\n",
      "  return quad_error\n",
      "\n",
      "def set_ylim(ymin, ymax):\n",
      "  ymin = min(plt.ylim()[0], ymin)\n",
      "  ymax = max(plt.ylim()[1], ymax)\n",
      "  plt.ylim([ymin, ymax])\n",
      "  return\n",
      "\n",
      "def convergence(Nrange, myfun, a, b, true_value):\n",
      "  ms = 10\n",
      "  f = np.vectorize(myfun) # So we can apply it to arrays without trouble\n",
      "  e_mp = get_error(midpoint, myfun, Nrange, a, b, true_value)\n",
      "  e_tr = get_error(trapezoid, myfun, Nrange, a, b, true_value)\n",
      "  e_sp = get_error(simpsons, myfun, Nrange, a, b, true_value)\n",
      "  e_gq = get_error(gaussianquad, myfun, Nrange, a, b, true_value)\n",
      "  plt.figure(figsize=(12,16))\n",
      "  # First plot\n",
      "  ax = plt.subplot(4,1,1)\n",
      "  dd = 0.1*(b-a)\n",
      "  x = np.linspace(a-dd, b+dd, 1000)\n",
      "  plt.plot(x, f(x), 'k', label=\"f(x)\", lw=2.0)\n",
      "  x = np.linspace(a, b, 1000)\n",
      "  plt.fill_between(x, myfun(x), 0, alpha=0.5, label=r\"$\\int_a^b f(x) dx$\")\n",
      "  plt.xlabel(\"x\")\n",
      "  plt.ylabel(\"f(x)\")\n",
      "  ymax = 1.05*plt.ylim()[1]\n",
      "  plt.ylim([-ymax, ymax])\n",
      "  plt.grid('on')\n",
      "  plt.legend(loc=\"lower left\")\n",
      "  # Second plot\n",
      "  ax = plt.subplot(4,1,2) \n",
      "  plt.plot(Nrange, e_mp, 'sb', lw=2.0, ms=ms, label=\"Midpoint\")\n",
      "  plt.plot(Nrange, e_tr, 'or', lw=2.0, ms=ms, label=\"Trapezoid\")\n",
      "  plt.plot(Nrange, e_gq, 'Dw', lw=2.0, ms=ms, label=\"Gaussian Quad\")\n",
      "  plt.plot(Nrange, e_sp, '>y', lw=2.0, ms=ms, label=\"Simpsons\")\n",
      "  set_ylim(-5E-2, 1E-1)\n",
      "  plt.xlabel(\"N\")\n",
      "  plt.ylabel(\"Tiempo [ms]\")\n",
      "  ax.legend(loc='upper center', bbox_to_anchor=(0.5, 1.00),\n",
      "          ncol=4, fancybox=True, shadow=True, numpoints=1)\n",
      "  plt.grid('on')\n",
      "  # Third plot\n",
      "  plt.subplot(4,1,3)\n",
      "  plt.loglog(Nrange, e_mp, 'sb', ms=ms, lw=2.0)\n",
      "  plt.loglog(Nrange, e_tr, 'or', ms=ms, lw=2.0)\n",
      "  plt.loglog(Nrange, e_sp, '>y', ms=ms, lw=2.0)\n",
      "  plt.loglog(Nrange, e_gq, 'Dw', ms=ms, lw=2.0)\n",
      "  #set_ylim(1E-18, 1E+1)\n",
      "  plt.xlabel(\"N\")\n",
      "  plt.ylabel(\"Tiempo [ms]\")\n",
      "  plt.grid('on')\n",
      "  # Forth plot\n",
      "  plt.subplot(4,1,4)\n",
      "  # Plotting Gaussian Quadratupre first but using larger markers\n",
      "  h = 1./np.array(Nrange)\n",
      "  plt.loglog(h, e_gq, 'Dw', lw=2.0, ms=ms)\n",
      "  plt.loglog(h, e_mp, 'sb', lw=2.0, ms=ms)\n",
      "  plt.loglog(h, e_tr, 'or', lw=2.0, ms=ms)\n",
      "  plt.loglog(h, e_sp, '>y', lw=2.0, ms=ms)\n",
      "  #set_ylim(1E-18, 1E+1)\n",
      "  plt.xlabel(\"h\")\n",
      "  plt.ylabel(\"Tiempo [ms]\")\n",
      "  plt.grid('on')\n",
      "  plt.show()"
     ],
     "language": "python",
     "metadata": {},
     "outputs": [],
     "prompt_number": 7
    },
    {
     "cell_type": "markdown",
     "metadata": {},
     "source": [
      "## Par\u00e1metros ##\n",
      "A continuaci\u00f3n, definimos los par\u00e1metros de nuestro experimento"
     ]
    },
    {
     "cell_type": "code",
     "collapsed": false,
     "input": [
      "sol = 0.0 # Reference value\n",
      "\n",
      "###########################\n",
      "# Function 1: Constant\n",
      "# All methods are good\n",
      "Ns = range(4, 205, 20)\n",
      "f = lambda x : 1.0\n",
      "a = -1.0\n",
      "b = +1.0\n",
      "exp1 = (Ns, f, a, b, sol)\n",
      "\n",
      "###########################\n",
      "# Function 2: sin\n",
      "# All method equal if symmetric interval\n",
      "# Gaussian quad better if asymmetric interval\n",
      "Ns = range(4, 20)\n",
      "f = lambda x : np.sin(x)\n",
      "a = -2.0\n",
      "b = +1.0\n",
      "exp2 = (Ns, f, a, b, sol)\n",
      "\n",
      "###########################\n",
      "# Function 3: gaussian bell\n",
      "# gaussian quad outperforms all the other methods\n",
      "Ns = range(4, 205, 20)\n",
      "f = lambda x : np.exp(-x**2)\n",
      "a = -1.0\n",
      "b = +1.0\n",
      "exp3 = (Ns, f, a, b, sol)\n",
      "\n",
      "\n",
      "###########################\n",
      "# Function 4: exponential\n",
      "# gaussian quad outperforms all the other methods\n",
      "Ns = range(4, 20)\n",
      "f = lambda x : np.exp(x)\n",
      "a = -1.0\n",
      "b = +2.0\n",
      "exp4 = (Ns, f, a, b, sol)\n",
      "\n",
      "###########################\n",
      "# Function 5: logarithm\n",
      "Ns = range(4, 20)\n",
      "f = lambda x : np.log(np.abs(x))\n",
      "a = 1E-6\n",
      "b = +1.0\n",
      "exp5 = (Ns, f, a, b, sol)\n",
      "\n",
      "###########################\n",
      "# Function 6 and true value\n",
      "Ns = range(4, 20)\n",
      "f = lambda x : np.sin(x)/x\n",
      "a = -1.0\n",
      "b = +1.0\n",
      "exp6 = (Ns, f, a, b, sol)\n",
      "\n",
      "###########################\n",
      "# Function 7 : absolute value\n",
      "# Midpoint wins\n",
      "# CHECK ME\n",
      "# Do (-1,1) and (-2,1)\n",
      "Ns = range(4, 20)\n",
      "f = lambda x : abs(x)\n",
      "a = -1.0\n",
      "b = +1.0\n",
      "exp7 = (Ns, f, a, b, sol)\n",
      "\n",
      "###########################\n",
      "# Function 8 : Gaussian\n",
      "# Midpoint/Traps wins over gaussian\n",
      "Ns = range(4, 100)\n",
      "f = lambda x : np.exp(-x**2)\n",
      "a = -10.0\n",
      "b = +10.0\n",
      "exp8 = (Ns, f, a, b, sol)\n",
      "\n",
      "###########################\n",
      "# Function 9 : 1/x^2\n",
      "# Gaussian wins, but they all degrade if a->0\n",
      "# Here we should try an adaptative method\n",
      "Ns = range(4, 20)\n",
      "f = lambda x : 1.0/(x**2)\n",
      "a = 1E-2\n",
      "b = +1.\n",
      "exp9 = (Ns, f, a, b, sol)"
     ],
     "language": "python",
     "metadata": {},
     "outputs": [],
     "prompt_number": 11
    },
    {
     "cell_type": "markdown",
     "metadata": {},
     "source": [
      "## Test de Convergencia ##\n",
      "Finalmente podemos testear la convergencia de nuestros m\u00e9todos"
     ]
    },
    {
     "cell_type": "code",
     "collapsed": false,
     "input": [
      "convergence(*exp3)"
     ],
     "language": "python",
     "metadata": {},
     "outputs": [
      {
       "metadata": {},
       "output_type": "display_data",
       "png": "[encoded data removed]",
       "text": [
        "<matplotlib.figure.Figure at 0x7fe013f0d590>"
       ]
      }
     ],
     "prompt_number": 12
    },
    {
     "cell_type": "code",
     "collapsed": false,
     "input": [],
     "language": "python",
     "metadata": {},
     "outputs": [],
     "prompt_number": 9
    }
   ],
   "metadata": {}
  }
 ]
}