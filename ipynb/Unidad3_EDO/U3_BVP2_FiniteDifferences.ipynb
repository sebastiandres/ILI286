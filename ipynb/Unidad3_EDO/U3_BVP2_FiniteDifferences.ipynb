{
 "metadata": {
  "name": ""
 },
 "nbformat": 3,
 "nbformat_minor": 0,
 "worksheets": [
  {
   "cells": [
    {
     "cell_type": "markdown",
     "metadata": {},
     "source": [
      "# BVP Diferencias Finitas #\n",
      "\n",
      "El presente ipython notebook ejemplifica el uso de Diferencias Finitas para resolver problemas del tipo BVP.\n",
      "\n",
      "### Set de Problemas ###"
     ]
    },
    {
     "cell_type": "code",
     "collapsed": false,
     "input": [
      "from matplotlib import pyplot as plt\n",
      "import numpy as np\n",
      "from scipy.optimize import fsolve\n",
      "\n",
      "# Problem 1 #\n",
      "f = lambda t, y, y_dot : y + 2.*np.exp(t)\n",
      "y_true = lambda t: t*np.exp(t)\n",
      "P1 = {\"a\":0, \"b\":1, \"f(t,y,y')\":f, \"y(a)\":0, \"y(b)\":np.exp(1)}\n",
      "P1_sol = {\"y(t)\":y_true, \n",
      "          \"title\":\"$y''(t) = y + 2 e^t$, in $[0,1]$ with $y(0)=0$ and $y(1)=e$\"}\n",
      "\n",
      "# Problem 2 #\n",
      "f = lambda t, y, y_dot : 2*y*y_dot\n",
      "y_true = lambda t: np.tan(t)\n",
      "P2 = {\"a\":0, \"b\":np.pi/4, \"f(t,y,y')\":f, \"y(a)\":0, \"y(b)\":1}\n",
      "P2_sol = {\"y(t)\":y_true, \n",
      "          \"title\":\"$y''(t) = 2 y y'$, in $[0,\\pi/4]$ with $y(0)=0$ and $y(\\pi/4)=1$\"}\n",
      "\n",
      "# Problem 3 #\n",
      "f = lambda t, y, y_dot : 6*y**(1./3)\n",
      "y_true = lambda t: t**3\n",
      "P3 = {\"a\":1, \"b\":2, \"f(t,y,y')\":f, \"y(a)\":1, \"y(b)\":8}\n",
      "P3_sol = {\"y(t)\":y_true, \n",
      "          \"title\":\"$y''(t) = 6 y^{1/3}$, in $[1,2]$ with $y(1)=1$ and $y(2)=8$\"}\n"
     ],
     "language": "python",
     "metadata": {},
     "outputs": [],
     "prompt_number": 1
    },
    {
     "cell_type": "markdown",
     "metadata": {},
     "source": [
      "### Implementaci\u00f3n mediante Diferencias Finitas ###"
     ]
    },
    {
     "cell_type": "code",
     "collapsed": false,
     "input": [
      "def FiniteDifferences(P, N=20):\n",
      "  x = np.linspace(P[\"a\"], P[\"b\"], N)\n",
      "  h = x[1]-x[0]\n",
      "  y = np.zeros(x.shape)\n",
      "  f = P[\"f(t,y,y')\"]\n",
      "  def non_linear_relation(z):\n",
      "    y = np.zeros(2+len(z))\n",
      "    y[0] = P[\"y(a)\"]\n",
      "    y[-1] = P[\"y(b)\"]\n",
      "    y[1:-1] = z\n",
      "    z_dot = (y[2:]-y[:-2])/(2*h)\n",
      "    # F is the non-linear function\n",
      "    F = -2 * z\n",
      "    F +=   y[:-2]\n",
      "    F +=   y[2:]\n",
      "    F += - h**2 * f(x[1:-1], z, z_dot)\n",
      "    return F\n",
      "  # Initial guess\n",
      "  y = np.linspace(P[\"y(a)\"], P[\"y(b)\"], N)\n",
      "  y0 = y[1:-1]\n",
      "  # Solve\n",
      "  y[1:-1] = fsolve(non_linear_relation, y0)\n",
      "  return x, y"
     ],
     "language": "python",
     "metadata": {},
     "outputs": [],
     "prompt_number": 2
    },
    {
     "cell_type": "markdown",
     "metadata": {},
     "source": [
      "### C\u00f3digo para Graficar ###"
     ]
    },
    {
     "cell_type": "code",
     "collapsed": false,
     "input": [
      "def plotSolution(P_sol, P):\n",
      "  # Construct the solution\n",
      "  N = 201 # For sampling the true solution\n",
      "  t = np.linspace(P[\"a\"], P[\"b\"], N)\n",
      "  y = P_sol[\"y(t)\"]\n",
      "  # Plot the figure on interactive mode\n",
      "  fig = plt.figure(figsize=(12,8))\n",
      "  plt.suptitle(P_sol[\"title\"], fontsize=20)\n",
      "  plt.plot(t, y(t), \"k\", lw=2.0, label=\"$y^{(true)}(t)$\", alpha=0.5)\n",
      "  plt.grid('on')\n",
      "  plt.xlabel(\"$t$\", fontsize=20)\n",
      "  plt.ylabel(\"$y(t)$\", fontsize=20)\n",
      "  return\n",
      "\n",
      "def plotFiniteDifferences(P, N=20):\n",
      "  # Get the solution\n",
      "  t_num, y_num = FiniteDifferences(P, N)\n",
      "  # Add the information to the plot\n",
      "  plt.plot(t_num, y_num, 'o:', label=\"$y^{(num)}(t)$, $N=%d$\"%N)\n",
      "  # Add to legend\n",
      "  plt.legend(loc=\"best\", numpoints=1, fontsize=20)\n",
      "  return\n",
      "\n",
      "def show():\n",
      "  plt.show()"
     ],
     "language": "python",
     "metadata": {},
     "outputs": [],
     "prompt_number": 3
    },
    {
     "cell_type": "markdown",
     "metadata": {},
     "source": [
      "### Realizar pruebas aqu\u00ed ###"
     ]
    },
    {
     "cell_type": "code",
     "collapsed": false,
     "input": [
      "P, P_sol = P3, P3_sol\n",
      "plotSolution(P_sol, P)\n",
      "plotFiniteDifferences(P, N=3)\n",
      "show()"
     ],
     "language": "python",
     "metadata": {},
     "outputs": [],
     "prompt_number": 9
    },
    {
     "cell_type": "code",
     "collapsed": false,
     "input": [],
     "language": "python",
     "metadata": {},
     "outputs": [],
     "prompt_number": 4
    }
   ],
   "metadata": {}
  }
 ]
}