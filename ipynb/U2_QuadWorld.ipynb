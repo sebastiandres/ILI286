{
 "metadata": {
  "name": "U2_QuadWorld"
 },
 "nbformat": 3,
 "nbformat_minor": 0,
 "worksheets": [
  {
   "cells": [
    {
     "cell_type": "markdown",
     "metadata": {},
     "source": [
      "***\n",
      "\n",
      "### DISCLAIMER ###\n",
      "\n",
      "El presente ipython notebook ha sido creado para el curso **ILI286 - Computaci\u00f3n Cient\u00edfica 2**, del [Departamento de Inform\u00e1tica](http://www.inf.utfsm.cl/), [Universidad T\u00e9cnica Federico Santa Mar\u00eda](http://www.utfsm.cl/). \n",
      "\n",
      "El material ha sido creado por Claudio Torres y Sebastian Flores, y es distribuido sin restricciones. En caso de encontrar un error, por favor no dude en contactarnos.\n",
      "\n",
      "***"
     ]
    },
    {
     "cell_type": "heading",
     "level": 1,
     "metadata": {},
     "source": [
      "Integraci\u00f3n Num\u00e9rica"
     ]
    },
    {
     "cell_type": "markdown",
     "metadata": {},
     "source": [
      "Necesitamos importar las librer\u00eda num\u00e9rica y definir una funci\u00f3n que nos permitir\u00e1 graficar apropiadamente."
     ]
    },
    {
     "cell_type": "code",
     "collapsed": false,
     "input": [
      "import numpy as np\n",
      "from matplotlib import pyplot as plt\n",
      "\n",
      "###########################################################################\n",
      "# General plotting framework\n",
      "###########################################################################\n",
      "def plot(f, xbin, ybin, int_val, N, text, figname=\"\"):\n",
      "  plt.figure(figsize=(12,6))\n",
      "  n = 201\n",
      "  # Get a representation of f as a continuous function\n",
      "  x = np.linspace(xbin.min(), xbin.max(), n)\n",
      "  y = f(x)\n",
      "  # Plot the function\n",
      "  plt.plot(x, y, 'r', lw=2.0)\n",
      "  # Plot the interpolation\n",
      "  plt.fill_between(xbin, 0, ybin, alpha=0.25, lw=2.0)\n",
      "  # Setting the lims\n",
      "  ymin, ymax = y.min(), y.max()\n",
      "  if abs(ymax-ymin)<1E-6:\n",
      "    ymin, ymax = 0.0, 1.0\n",
      "  dy = .1*(ymax-ymin)\n",
      "  plt.ylim([ymin-dy,ymax+dy])\n",
      "  xmin, xmax = x.min(), x.max()\n",
      "  if abs(b-a)<1E-6:\n",
      "    xmin, xmax = 0.0, 1.0\n",
      "  dx = .1*(b-a)\n",
      "  plt.xlim([xmin-dx,xmax+dx])\n",
      "  # Do the text\n",
      "  if N>1:\n",
      "    text_N = r\"$%s \\approx %.5f$ (usando %d evaluaciones de $f$)\" %(text, int_val, N)\n",
      "    plt.text(min(x), max(y), text_N, fontsize=18)\n",
      "    #plt.text(min(x), 0.9*max(y), \"Valor exacto $2.35040$\", fontsize=18)\n",
      "  plt.xlabel(\"x\")\n",
      "  plt.ylabel(\"y\")\n",
      "  plt.show()\n",
      "  return"
     ],
     "language": "python",
     "metadata": {},
     "outputs": [],
     "prompt_number": 1
    },
    {
     "cell_type": "markdown",
     "metadata": {},
     "source": [
      "## Par\u00e1metros ##"
     ]
    },
    {
     "cell_type": "code",
     "collapsed": false,
     "input": [
      "a = 0\n",
      "b = 6\n",
      "myfun = lambda x : np.exp(x) #1 # x #np.exp(-x)\n",
      "N = 3\n",
      "text= r\"\\int_{%+.2f}^{%+.2f} e^x dx\" %(a,b)"
     ],
     "language": "python",
     "metadata": {},
     "outputs": [],
     "prompt_number": 2
    },
    {
     "cell_type": "markdown",
     "metadata": {},
     "source": [
      "## Sumas de Riemann ##\n",
      "\n",
      "### Suma izquierda de Riemann ###\n",
      "\\begin{align*}\n",
      "c = \\int_a^b f(x) dx & \\approx \\sum f(x_i) \\Delta x\n",
      "\\end{align*}\n",
      "\n",
      "### Suma derecha de Riemann ###\n",
      "\\begin{align*}\n",
      "c = \\int_a^b f(x) dx \\approx \\sum f(x_{i+1}) \\Delta x\n",
      "\\end{align*}"
     ]
    },
    {
     "cell_type": "code",
     "collapsed": false,
     "input": [
      "###########################################################################\n",
      "# Riemann Rule\n",
      "###########################################################################\n",
      "def riemann(myfun, N, a, b, direction=\"left\", do_plot=True, text=\"\", figname=\"\"):\n",
      "  f = np.vectorize(myfun) # So we can apply it to arrays without trouble\n",
      "  x = np.linspace(a, b, N+1) # We want N bins, so N+1 points  \n",
      "  dx = x[1]-x[0]\n",
      "  if direction==\"left\":\n",
      "    points = x[:-1]\n",
      "  elif direction==\"right\":\n",
      "    points = x[1:]\n",
      "  else:\n",
      "    print \"Riemann Sum: choose left or right\"\n",
      "    return\n",
      "  point_values = f(points)\n",
      "  int_val = sum(point_values*dx)\n",
      "  if do_plot:\n",
      "    xbin = np.vstack([x[:-1], x[1:]]).flatten(1)\n",
      "    ybin = np.vstack([point_values, point_values]).flatten(1)\n",
      "    plot(f, xbin, ybin, int_val, N, text, figname)\n",
      "  return int_val\n",
      "\n",
      "print riemann(myfun, N, a, b, direction=\"left\", \n",
      "                  text=text, figname=\"riemann_left_%d.png\"%N)\n",
      "print riemann(myfun, N, a, b, direction=\"right\", \n",
      "                  text=text, figname=\"riemann_right_%d.png\"%N)\n"
     ],
     "language": "python",
     "metadata": {},
     "outputs": [
      {
       "output_type": "stream",
       "stream": "stdout",
       "text": [
        "63.2566107696\n",
        "1270.54299125"
       ]
      },
      {
       "output_type": "stream",
       "stream": "stdout",
       "text": [
        "\n"
       ]
      }
     ],
     "prompt_number": 3
    },
    {
     "cell_type": "markdown",
     "metadata": {},
     "source": [
      "## Midpoint ##\n",
      "\n",
      "Al aplicar a un intervalo $[a,b]$ subdividido en $m$ segmentos y $m+1 \\ \\ $ puntos, $x_0, ..., x_{m+1} \\ \\ $, tenemos\n",
      "\n",
      "\\begin{align*}\n",
      "\\int_{a}^{b} f(x) dx = \\sum_{i=1}^{m} \\int_{x_{i-1}}^{x_{i}} f(x) dx  \\\\\n",
      "                     = \\sum_{i=1}^{m} h f(w_i) + \\frac{(b-a)}{24} h^2 f''(c)\n",
      "\\end{align*}\n",
      "donde $h=(b-a)/m \\ \\ \\ $, \n",
      "$w_i=\\frac{1}{2}(x_{i-1}+x_{i})\\ \\ \\ $ \n",
      "y \n",
      "$\\ \\ c \\in [a, b]$"
     ]
    },
    {
     "cell_type": "code",
     "collapsed": false,
     "input": [
      "def midpoint(myfun, N, a, b, do_plot=True, text=\"\", figname=\"\"):\n",
      "  f = np.vectorize(myfun) # So we can apply it to arrays without trouble\n",
      "  x = np.linspace(a, b, N+1) # We want N bins, so N+1 points  \n",
      "  dx = x[1]-x[0]\n",
      "  midpoints = x[:-1] + .5*dx\n",
      "  midpoint_values = f(midpoints)\n",
      "  int_val = sum(midpoint_values*dx)\n",
      "  if do_plot:\n",
      "    xbin = np.vstack([x[:-1], x[1:]]).flatten(1)\n",
      "    ybin = np.vstack([midpoint_values, midpoint_values]).flatten(1)\n",
      "    plot(f, xbin, ybin, int_val, N, text, figname)\n",
      "  return int_val\n",
      "\n",
      "print midpoint(myfun, N, a, b, \n",
      "                   text=text, figname=\"midpoint_%d.png\"%N)"
     ],
     "language": "python",
     "metadata": {},
     "outputs": [
      {
       "output_type": "stream",
       "stream": "stdout",
       "text": [
        "283.496461113\n"
       ]
      }
     ],
     "prompt_number": 4
    },
    {
     "cell_type": "markdown",
     "metadata": {},
     "source": [
      "## Regla del Trapecio ##\n",
      "Al aplicar a un intervalo $[a,b]$ subdividido en $m$ segmentos y $m+1 \\ \\ $ puntos, $x_0, ..., x_{m+1} \\ \\ $, tenemos\n",
      "\\begin{align*}\n",
      "\\int_{x_0}^{x_1} f(x) dx = \\sum_{i=1}^{m} \\int_{x_{i-1}}^{x_{i}} f(x) dx \n",
      "                         = \\frac{h}{2}\\left[f(a) + f(b) + 2\\sum_{i=1}^{m-1} f(x_i) \\right] - (b-a) \\frac{h^2}{12} f''(c)\n",
      "\\end{align*}\n",
      "donde $h=(b-a)/m \\ \\ \\ $ y $c \\in [a, b]$\n"
     ]
    },
    {
     "cell_type": "code",
     "collapsed": false,
     "input": [
      "def trapezoid(myfun, N, a, b, do_plot=True, text=\"\", figname=\"\"):\n",
      "  f = np.vectorize(myfun) # So we can apply it to arrays without trouble\n",
      "  x = np.linspace(a, b, N+1) # We want N bins, so N+1 points  \n",
      "  dx = x[1]-x[0]\n",
      "  xleft = x[:-1]\n",
      "  xright = x[1:]\n",
      "  int_val = sum(0.5*(f(xleft)+f(xright))*dx)\n",
      "  if do_plot:\n",
      "    xbin = x\n",
      "    ybin = f(x) \n",
      "    plot(f, xbin, ybin, int_val, N, text, figname)\n",
      "  return int_val\n",
      "\n",
      "print trapezoid(myfun, N, a, b, \n",
      "                text=text, figname=\"trapezoid_%d.png\"%N)"
     ],
     "language": "python",
     "metadata": {},
     "outputs": [
      {
       "output_type": "stream",
       "stream": "stdout",
       "text": [
        "666.899801009\n"
       ]
      }
     ],
     "prompt_number": 5
    },
    {
     "cell_type": "markdown",
     "metadata": {},
     "source": [
      "## Regla de Simpsons ##\n",
      "\n",
      "Al aplicar a un intervalo $[a,b]$ subdividido en $m$ segmentos y $m+1 \\ \\ $ puntos, $x_0, ..., x_{m+1} \\ \\ $, con $m$ par, tenemos\n",
      "\n",
      "\\begin{align*}\n",
      "\\int_{a}^{b} f(x) dx = \\frac{h}{3}(f(x_0) + \\sum_{i=1}^{N-1} 6 f(x_i) +  f(x_N)) - (b-a)\\frac{h^4}{90} f^{(4)}(c)\n",
      "\\end{align*}\n",
      "con $h=(x_{i+1}-x_i) \\ \\ $ y $c \\in [a, b]$\n"
     ]
    },
    {
     "cell_type": "code",
     "collapsed": false,
     "input": [
      "def simpsons(myfun, N, a, b, do_plot=True, text=\"\", figname=\"\"):\n",
      "  f = np.vectorize(myfun) # So we can apply it to arrays without trouble\n",
      "  x = np.linspace(a, b, N+1) # We want N bins, so N+1 points\n",
      "  if N%2==1:\n",
      "    print \"Simpsons rule only applicable to even number of segments\"\n",
      "    return\n",
      "  dx = x[1]-x[0]\n",
      "  xleft   = x[:-2:2]\n",
      "  xmiddle = x[1::2]\n",
      "  xright  = x[2::2]\n",
      "  int_val = sum((f(xleft)+4*f(xmiddle)+f(xright))*dx/3)\n",
      "  if do_plot:\n",
      "    xbin, ybin = simpsons_bins(f, xleft, xmiddle, xright)\n",
      "    plot(f, xbin, ybin, int_val, N, text, figname)\n",
      "  return int_val\n",
      "\n",
      "def simpsons_bins(f, xleft, xmiddle, xright):\n",
      "  xbin, ybin = [], []\n",
      "  n = 21\n",
      "  for x0, x1, x2 in zip(xleft, xmiddle, xright):\n",
      "    x = np.linspace(x0, x2, n)\n",
      "    y = (f(x0)*(x-x1)*(x-x2)) / ((x0-x1)*(x0-x2))\n",
      "    y+= (f(x1)*(x-x0)*(x-x2)) / ((x1-x0)*(x1-x2))\n",
      "    y+= (f(x2)*(x-x0)*(x-x1)) / ((x2-x0)*(x2-x1))\n",
      "    xbin.extend(list(x))\n",
      "    ybin.extend(list(y))\n",
      "  return np.array(xbin), np.array(ybin)\n",
      "\n",
      "print simpsons(myfun, N, a, b, \n",
      "               text=text, figname=\"simpsons_%d.png\"%N)"
     ],
     "language": "python",
     "metadata": {},
     "outputs": [
      {
       "output_type": "stream",
       "stream": "stdout",
       "text": [
        "484.770941185\n"
       ]
      }
     ],
     "prompt_number": 6
    },
    {
     "cell_type": "markdown",
     "metadata": {},
     "source": [
      "## Cuadratura Gaussiana ##\n",
      "\n",
      "Este m\u00e9todo utiliza la siguiente aproximaci\u00f3n, para un intervalo $[-1,1]$:\n",
      "\\begin{align*}\n",
      "\\int_{a}^{b} f(x) dx = \\sum_{i=1}^n w_i f(x_i)\n",
      "\\end{align*}\n",
      "donde los $x_i$ se definen como las ra\u00edces del n-\u00e9simo polinomio de Legendre $p_n(x)$:\n",
      "\\begin{align*}\n",
      "p_n(x) = \\frac{1}{2^n n!} \\frac{d^n}{dx^n} \\left[ (x^2 - 1)^n \\right]\n",
      "\\end{align*}\n",
      "\n",
      "Los $w_i$ son ...\n",
      "\n",
      "\n",
      "\n",
      "Para un intervalo arbitrario $[a,b]$ es necesario trasladar apropiadamente la funci\u00f3n.\n",
      "\n"
     ]
    },
    {
     "cell_type": "code",
     "collapsed": false,
     "input": [
      "def gaussianquad(myfun, N, a, b, do_plot=True, text=\"\", figname=\"\"):\n",
      "  f = np.vectorize(myfun) # So we can apply it to arrays without trouble\n",
      "  x, w = gaussian_nodes_and_weights(N, a, b)\n",
      "  int_val = sum( w * f(x) )\n",
      "  if do_plot:\n",
      "    xbin, ybin = gaussian_bins(f, x, w)\n",
      "    plot(f, xbin, ybin, int_val, N, text, figname)\n",
      "  return int_val\n",
      "\n",
      "def gaussian_nodes_and_weights(N, a, b):\n",
      "  if N==1: return np.array([1]), np.array([2])\n",
      "  beta = .5 / np.sqrt(1.-(2.*np.arange(1.,N))**(-2))\n",
      "  T = np.diag(beta,1) + np.diag(beta,-1)\n",
      "  D, V = np.linalg.eigh(T)\n",
      "  x = D\n",
      "  x = .5 * ( (b-a)*x + b + a) # Rescaling\n",
      "  w = 2*V[0,:]**2\n",
      "  w = .5*(b-a)*w\n",
      "  return x, w\n",
      "\n",
      "def gaussian_bins(f, x, w):\n",
      "  z = [a] + list(a + w.cumsum())\n",
      "  xbin = np.vstack([z[:-1], z[1:]]).flatten(1)\n",
      "  z = f(x)\n",
      "  ybin = np.vstack([z[:], z[:]]).flatten(1)\n",
      "  return np.array(xbin), np.array(ybin)\n",
      "\n",
      "print gaussianquad(myfun, N, a, b, \n",
      "                   text=text, figname=\"gaussianquad_%d.png\"%N)"
     ],
     "language": "python",
     "metadata": {},
     "outputs": [
      {
       "output_type": "stream",
       "stream": "stdout",
       "text": [
        "351.245116741\n"
       ]
      }
     ],
     "prompt_number": 7
    },
    {
     "cell_type": "code",
     "collapsed": false,
     "input": [],
     "language": "python",
     "metadata": {},
     "outputs": [],
     "prompt_number": 7
    }
   ],
   "metadata": {}
  }
 ]
}