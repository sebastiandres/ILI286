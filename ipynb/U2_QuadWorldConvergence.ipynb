{
 "metadata": {
  "name": "U2_QuadWorldConvergence"
 },
 "nbformat": 3,
 "nbformat_minor": 0,
 "worksheets": [
  {
   "cells": [
    {
     "cell_type": "markdown",
     "metadata": {},
     "source": [
      "# Integraci\u00f3n Num\u00e9rica - Convergencia #\n",
      "\n",
      "Primero que nada importamos las librer\u00edas num\u00e9ricas necesarias, \n",
      "y definimos una funcion que muestra graficamente la convergencia."
     ]
    },
    {
     "cell_type": "code",
     "collapsed": false,
     "input": [
      "import numpy as np\n",
      "from matplotlib import pyplot as plt\n",
      "\n",
      "def convergence(quadrature_rule, myfun, Nrange, a, b, true_value):\n",
      "    quad = []\n",
      "    for N in Nrange:\n",
      "        quad.append(quadrature_rule(myfun, N, a, b))\n",
      "    plt.subplot(2,1,1)\n",
      "    plt.plot([0, 1.1*Nrange[-1]], [true_value, true_value], 'r', lw=1.0)\n",
      "    plt.plot(Nrange, quad, 'b', lw=2.0)\n",
      "    plt.subplot(2,1,2)\n",
      "    plt.loglog([0, 1.1*Nrange[-1]], [true_value, true_value], 'r', lw=1.0)\n",
      "    plt.loglog(Nrange, quad, 'b', lw=2.0)\n",
      "    plt.show()"
     ],
     "language": "python",
     "metadata": {},
     "outputs": [],
     "prompt_number": 56
    },
    {
     "cell_type": "markdown",
     "metadata": {},
     "source": [
      "## Par\u00e1metros ##\n",
      "A continuaci\u00f3n, definimos los par\u00e1metros de nuestro experimento"
     ]
    },
    {
     "cell_type": "code",
     "collapsed": false,
     "input": [
      "# Interval\n",
      "a = 0\n",
      "b = 1\n",
      "# Range of discretizations to study\n",
      "Nrange = range(2,100,2)\n",
      "# Function 1 and true value\n",
      "f0 = lambda x : 1.0\n",
      "I0 = 1.0\n",
      "# Function 1 and true value\n",
      "f1 = lambda x : np.exp(-x**2)\n",
      "I1 = 1.4936482656248541\n",
      "# Function 2 and true value\n",
      "f2 = lambda x : np.sin(x)\n",
      "I2 = 0.0\n",
      "# Function 3 and true value\n",
      "f3 = lambda x : np.log(np.abs(x))\n",
      "I3 = -2.0000000000000000\n",
      "# Function 4 and true value\n",
      "f4 = lambda x : np.sin(x)/x\n",
      "I4 = 1.8921661407343660\n",
      "# Function 1 and true value\n",
      "f5 = lambda x : np.exp(x)\n",
      "I5 = 2.3504023872876029"
     ],
     "language": "python",
     "metadata": {},
     "outputs": [],
     "prompt_number": 52
    },
    {
     "cell_type": "markdown",
     "metadata": {},
     "source": [
      "## Midpoint ##\n",
      "\n",
      "Al aplicar a un intervalo $[a,b]$ subdividido en $m$ segmentos y $m+1 \\ \\ $ puntos, $x_0, ..., x_{m+1} \\ \\ $, tenemos\n",
      "\n",
      "\\begin{align*}\n",
      "\\int_{a}^{b} f(x) dx = \\sum_{i=1}^{m} \\int_{x_{i-1}}^{x_{i}} f(x) dx  \\\\\n",
      "                     = \\sum_{i=1}^{m} h f(w_i) + \\frac{(b-a)}{24} h^2 f''(c)\n",
      "\\end{align*}\n",
      "donde $h=(b-a)/m \\ \\ \\ $, \n",
      "$w_i=\\frac{1}{2}(x_{i-1}+x_{i})\\ \\ \\ $ \n",
      "y \n",
      "$\\ \\ c \\in [a, b]$"
     ]
    },
    {
     "cell_type": "code",
     "collapsed": false,
     "input": [
      "def midpoint(myfun, N, a, b):\n",
      "  f = np.vectorize(myfun) # So we can apply it to arrays without trouble\n",
      "  x = np.linspace(a, b, N+1) # We want N bins, so N+1 points  \n",
      "  dx = x[1]-x[0]\n",
      "  midpoints = x[:-1] + .5*dx\n",
      "  midpoint_values = f(midpoints)\n",
      "  int_val = dx*midpoint_values.sum()\n",
      "  return int_val\n",
      "\n",
      "myfun, true_val = f0, I0\n",
      "convergence(midpoint, myfun, Nrange, a, b, true_val)"
     ],
     "language": "python",
     "metadata": {},
     "outputs": [
      {
       "output_type": "display_data",
       "png": "[encoded data removed]"
      }
     ],
     "prompt_number": 57
    },
    {
     "cell_type": "markdown",
     "metadata": {},
     "source": [
      "## Regla del Trapecio ##\n",
      "Al aplicar a un intervalo $[a,b]$ subdividido en $m$ segmentos y $m+1 \\ \\ $ puntos, $x_0, ..., x_{m+1} \\ \\ $, tenemos\n",
      "\\begin{align*}\n",
      "\\int_{x_0}^{x_1} f(x) dx = \\sum_{i=1}^{m} \\int_{x_{i-1}}^{x_{i}} f(x) dx \n",
      "                         = \\frac{h}{2}\\left[f(a) + f(b) + 2\\sum_{i=1}^{m-1} f(x_i) \\right] - (b-a) \\frac{h^2}{12} f''(c)\n",
      "\\end{align*}\n",
      "donde $h=(b-a)/m \\ \\ \\ $ y $c \\in [a, b]$\n"
     ]
    },
    {
     "cell_type": "code",
     "collapsed": false,
     "input": [
      "def trapezoid(myfun, N, a, b):\n",
      "  f = np.vectorize(myfun) # So we can apply it to arrays without trouble\n",
      "  x = np.linspace(a, b, N+1) # We want N bins, so N+1 points  \n",
      "  dx = x[1]-x[0]\n",
      "  xleft = x[:-1]\n",
      "  xright = x[1:]\n",
      "  int_val = 0.5*dx*sum((f(xleft)+f(xright)))\n",
      "  return int_val\n",
      "\n",
      "myfun, true_val = f0, I0\n",
      "convergence(trapezoid, myfun, Nrange, a, b, true_val)"
     ],
     "language": "python",
     "metadata": {},
     "outputs": [
      {
       "output_type": "display_data",
       "png": "[encoded data removed]"
      }
     ],
     "prompt_number": 59
    },
    {
     "cell_type": "markdown",
     "metadata": {},
     "source": [
      "## Regla de Simpsons ##\n",
      "\n",
      "Al aplicar a un intervalo $[a,b]$ subdividido en $m$ segmentos y $m+1 \\ \\ $ puntos, $x_0, ..., x_{m+1} \\ \\ $, con $m$ par, tenemos\n",
      "\n",
      "\\begin{align*}\n",
      "\\int_{a}^{b} f(x) dx = \\frac{h}{3}(f(x_0) + \\sum_{i=1}^{N-1} 6 f(x_i) +  f(x_N)) - (b-a)\\frac{h^4}{90} f^{(4)}(c)\n",
      "\\end{align*}\n",
      "con $h=(x_{i+1}-x_i) \\ \\ $ y $c \\in [a, b]$\n"
     ]
    },
    {
     "cell_type": "code",
     "collapsed": false,
     "input": [
      "def simpsons(myfun, N, a, b):\n",
      "  f = np.vectorize(myfun) # So we can apply it to arrays without trouble\n",
      "  x = np.linspace(a, b, N+1) # We want N bins, so N+1 points\n",
      "  if N%2==1:\n",
      "    print \"Simpsons rule only applicable to even number of segments\"\n",
      "    return\n",
      "  dx = x[1]-x[0]\n",
      "  xleft   = x[:-2:2]\n",
      "  xmiddle = x[1::2]\n",
      "  xright  = x[2::2]\n",
      "  int_val = (dx/3) * sum((f(xleft)+4*f(xmiddle)+f(xright)))\n",
      "  return int_val\n",
      "\n",
      "myfun, true_val = f0, I0\n",
      "convergence(simpsons, myfun, Nrange, a, b, true_val)"
     ],
     "language": "python",
     "metadata": {},
     "outputs": [
      {
       "output_type": "display_data",
       "png": "[encoded data removed]"
      }
     ],
     "prompt_number": 60
    },
    {
     "cell_type": "markdown",
     "metadata": {},
     "source": [
      "## Cuadratura Gaussiana ##\n",
      "\n",
      "Este m\u00e9todo utiliza la siguiente aproximaci\u00f3n, para un intervalo $[-1,1]$:\n",
      "\\begin{align*}\n",
      "\\int_{a}^{b} f(x) dx = \\sum_{i=1}^n w_i f(x_i)\n",
      "\\end{align*}\n",
      "donde los $x_i$ se definen como las ra\u00edces del n-\u00e9simo polinomio de Legendre $p_n(x)$:\n",
      "\\begin{align*}\n",
      "p_n(x) = \\frac{1}{2^n n!} \\frac{d^n}{dx^n} \\left[ (x^2 - 1)^n \\right]\n",
      "\\end{align*}\n",
      "\n",
      "Los $w_i$ son ...\n",
      "\n",
      "\n",
      "\n",
      "Para un intervalo arbitrario $[a,b]$ es necesario trasladar apropiadamente la funci\u00f3n.\n",
      "\n"
     ]
    },
    {
     "cell_type": "code",
     "collapsed": false,
     "input": [
      "def gaussianquad(myfun, N, a, b):\n",
      "  f = np.vectorize(myfun) # So we can apply it to arrays without trouble\n",
      "  x, w = gaussian_nodes_and_weights(N, a, b)\n",
      "  int_val = sum( w * f(x) )\n",
      "  return int_val\n",
      "\n",
      "def gaussian_nodes_and_weights(N, a, b):\n",
      "  if N==1: return np.array([1]), np.array([2])\n",
      "  beta = .5 / np.sqrt(1.-(2.*np.arange(1.,N))**(-2))\n",
      "  T = np.diag(beta,1) + np.diag(beta,-1)\n",
      "  D, V = np.linalg.eigh(T)\n",
      "  x = D\n",
      "  x = .5 * ( (b-a)*x + b + a) # Rescaling\n",
      "  w = 2*V[0,:]**2\n",
      "  w = .5*(b-a)*w\n",
      "  return x, w\n",
      "\n",
      "myfun, true_val = f1, I1\n",
      "convergence(gaussianquad, myfun, Nrange, a, b, true_val)"
     ],
     "language": "python",
     "metadata": {},
     "outputs": [
      {
       "output_type": "display_data",
       "png": "[encoded data removed]"
      }
     ],
     "prompt_number": 62
    },
    {
     "cell_type": "code",
     "collapsed": false,
     "input": [],
     "language": "python",
     "metadata": {},
     "outputs": [],
     "prompt_number": 7
    }
   ],
   "metadata": {}
  }
 ]
}