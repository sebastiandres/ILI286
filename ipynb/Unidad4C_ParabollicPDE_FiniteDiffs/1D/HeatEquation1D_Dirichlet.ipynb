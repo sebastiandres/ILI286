{
 "metadata": {
  "name": "HeatEquation1D_Dirichlet"
 },
 "nbformat": 3,
 "nbformat_minor": 0,
 "worksheets": [
  {
   "cells": [
    {
     "cell_type": "markdown",
     "metadata": {},
     "source": [
      "# Ecuaci\u00f3n de Calor 1D #\n",
      "\n",
      "Consideremos la siguiente EDP parab\u00f3lica, para $ x \\in [a,b]$ y $t \\in [0,T_{max}]$:\n",
      "\\begin{align*}\n",
      "u_t(x,t) = D u_{xx}(x,t)\n",
      "\\end{align*}\n",
      "\\begin{align*}\n",
      "u(x,0) = f(x)\n",
      "\\end{align*}\n",
      "\\begin{align*}\n",
      "u(a,t) = l(t)\n",
      "\\end{align*}\n",
      "\\begin{align*}\n",
      "u(b,t) = r(t)\n",
      "\\end{align*}\n",
      "\n",
      "## Forward Difference con condici\u00f3n de borde de Dirichlet ##"
     ]
    },
    {
     "cell_type": "code",
     "collapsed": false,
     "input": [
      "import numpy as np\n",
      "import plot\n",
      "\n",
      "def heat_equation_forward_differences(P, Nx, Nt):\n",
      "    \"\"\"\n",
      "    Solves the heat equation using forward differences\n",
      "    \"\"\"\n",
      "    x = np.linspace(P[\"xmin\"], P[\"xmax\"], Nx)\n",
      "    t = np.linspace(P[\"tmin\"], P[\"tmax\"], Nt)\n",
      "    dx = x[1]-x[0]\n",
      "    dt = t[1]-t[0]\n",
      "    S = P[\"D\"]*dt/dx**2\n",
      "    print \"CFL condition: D*dt/dx^2 = %.1f <= 0.5 ?\" %S\n",
      "    # Storage\n",
      "    u = np.zeros((Nx, Nt))\n",
      "    # Time Loop\n",
      "    for i, ti in enumerate(t):\n",
      "        if i==0:\n",
      "            u[:,0] = P[\"f\"](x)\n",
      "        else:\n",
      "            u[ 0,i] = P[\"l\"](ti)\n",
      "            u[-1,i] = P[\"r\"](ti)\n",
      "            u[1:-1, i] = S*u[:-2, i-1] + (1-2*S)*u[1:-1,i-1]+S*u[2:,i-1]\n",
      "    return x, t, u"
     ],
     "language": "python",
     "metadata": {},
     "outputs": [],
     "prompt_number": 16
    },
    {
     "cell_type": "markdown",
     "metadata": {},
     "source": [
      "## Backward Difference con condici\u00f3n de borde de Dirichlet ##"
     ]
    },
    {
     "cell_type": "code",
     "collapsed": false,
     "input": [
      "def heat_equation_backward_differences(P, Nx, Nt):\n",
      "    \"\"\"\n",
      "    Solves the heat equation using forward differences\n",
      "    \"\"\"\n",
      "    x = np.linspace(P[\"xmin\"], P[\"xmax\"], Nx)\n",
      "    t = np.linspace(P[\"tmin\"], P[\"tmax\"], Nt)\n",
      "    dx = x[1]-x[0]\n",
      "    dt = t[1]-t[0]\n",
      "    S = P[\"D\"]*dt/dx**2\n",
      "    print \"CFL condition not required: D*dt/dx^2 = %.1f\" %S\n",
      "    # Constructing the matrix\n",
      "    A = np.diag(-S*np.ones(Nx-3),-1) + np.diag((1+2*S)*np.ones(Nx-2),0) + np.diag(-S*np.ones(Nx-3),+1)\n",
      "    # Storage\n",
      "    u = np.zeros((Nx, Nt))\n",
      "    # Time Loop\n",
      "    for i, ti in enumerate(t):\n",
      "        if i==0:\n",
      "            u[:,0] = P[\"f\"](x)\n",
      "        else:\n",
      "            u[ 0,i] = P[\"l\"](ti)\n",
      "            u[-1,i] = P[\"r\"](ti)\n",
      "            b = u[1:-1,i-1].copy()\n",
      "            b[ 0] += S*u[ 0,i]\n",
      "            b[-1] += S*u[-1,i]\n",
      "            u[1:-1, i] = np.linalg.solve(A, b)\n",
      "    return x, t, u"
     ],
     "language": "python",
     "metadata": {},
     "outputs": [],
     "prompt_number": 17
    },
    {
     "cell_type": "markdown",
     "metadata": {},
     "source": [
      "## Tests ##"
     ]
    },
    {
     "cell_type": "code",
     "collapsed": false,
     "input": [
      "f1 = lambda x: np.sin(2*np.pi*x)**2 \n",
      "l1 = lambda t: t\n",
      "r1 = lambda t: t\n",
      "P1 = {\"xmin\":0, \"xmax\":1, \"tmin\":0, \"tmax\":1.0, \n",
      "     \"D\":1, \"f\":f1, \"l\":l1, \"r\":r1}\n",
      "\n",
      "f2 = lambda x: 10*np.exp(-(x-.5)**2/0.01) \n",
      "l2 = lambda t: 0\n",
      "r2 = lambda t: 0\n",
      "P2 = {\"xmin\":0, \"xmax\":1, \"tmin\":0, \"tmax\":1.0, \n",
      "     \"D\":1, \"f\":f2, \"l\":l2, \"r\":r2}\n",
      "\n",
      "f3 = lambda x: x \n",
      "l3 = lambda t: 0\n",
      "r3 = lambda t: 0 \n",
      "P3 = {\"xmin\":0, \"xmax\":1, \"tmin\":0, \"tmax\":1.0, \n",
      "     \"D\":1, \"f\":f3, \"l\":l3, \"r\":r3}"
     ],
     "language": "python",
     "metadata": {},
     "outputs": [],
     "prompt_number": 20
    },
    {
     "cell_type": "markdown",
     "metadata": {},
     "source": [
      "## Sandbox ##"
     ]
    },
    {
     "cell_type": "code",
     "collapsed": false,
     "input": [
      "P = P1\n",
      "#x, t, u = heat_equation_forward_differences(P, 10, 10) # Unstable\n",
      "#x, t, u = heat_equation_forward_differences(P, 10, 200) # Stable\n",
      "#x, t, u = heat_equation_forward_differences(P, 100, 20000) # Stable\n",
      "#x, t, u = heat_equation_backward_differences(P, 10, 10) # Stable\n",
      "#x, t, u = heat_equation_backward_differences(P, 10, 100) # Stable\n",
      "x, t, u = heat_equation_backward_differences(P, 100, 100) # Stable\n",
      "\n",
      "plot.show(x,t,u)"
     ],
     "language": "python",
     "metadata": {},
     "outputs": [
      {
       "output_type": "stream",
       "stream": "stdout",
       "text": [
        "CFL condition not required: D*dt/dx^2 = 99.0\n"
       ]
      }
     ],
     "prompt_number": 23
    },
    {
     "cell_type": "code",
     "collapsed": false,
     "input": [],
     "language": "python",
     "metadata": {},
     "outputs": [],
     "prompt_number": 19
    }
   ],
   "metadata": {}
  }
 ]
}