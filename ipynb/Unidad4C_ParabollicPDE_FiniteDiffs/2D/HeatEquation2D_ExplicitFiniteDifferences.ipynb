{
 "metadata": {
  "name": ""
 },
 "nbformat": 3,
 "nbformat_minor": 0,
 "worksheets": [
  {
   "cells": [
    {
     "cell_type": "markdown",
     "metadata": {},
     "source": [
      "# Ecuaci\u00f3n de Calor 2D #\n",
      "\n",
      "Es posible resolver de manera sencilla la ecuaci\u00f3n de calor en 2D, en [0,1]x[0,1]"
     ]
    },
    {
     "cell_type": "code",
     "collapsed": false,
     "input": [
      "from plot import animate\n",
      "import numpy as np\n",
      "\n",
      "# This is the 2D version of Explicit Finite Differences\n",
      "def evolve(u_new, u_old, dt, D, dx2, dy2):\n",
      "  u_new[1:-1, 1:-1]  = u_old[1:-1, 1:-1] \n",
      "  u_new[1:-1, 1:-1] += D * dt * (u_old[2:, 1:-1] - 2*u_old[1:-1, 1:-1] + u_old[:-2, 1:-1]) / dx2 \n",
      "  u_new[1:-1, 1:-1] += D * dt * (u_old[1:-1, 2:] - 2*u_old[1:-1, 1:-1] + u_old[1:-1, :-2]) / dy2\n",
      "  return u_new"
     ],
     "language": "python",
     "metadata": {},
     "outputs": [],
     "prompt_number": 2
    },
    {
     "cell_type": "code",
     "collapsed": false,
     "input": [
      "####################################################\n",
      "# INPUTS\n",
      "####################################################\n",
      "Ri = 0.05 # Internal Radii\n",
      "Re = 0.10 # External Radii\n",
      "dx = 0.01 # Interval size in x-direction.\n",
      "dy = 0.01 # Interval size in y-direction.\n",
      "D = 1.   # Diffusion constant.\n",
      "NumSteps = 200  # [s] Number of time-steps to evolve system.\n",
      "\n",
      "####################################################\n",
      "# AUXILIAR VARIABLES\n",
      "####################################################\n",
      "nx = int(1/dx)\n",
      "ny = int(1/dy)\n",
      "dx2=dx**2\n",
      "dy2=dy**2\n",
      "\n",
      "# For stability, this is the largest interval possible\n",
      "# for the size of the time-step:\n",
      "dt = 1.0*dx2*dy2 / ( 2*D*(dx2+dy2) )\n",
      "\n",
      "####################################################\n",
      "# INITIALIZATION OF VARIABLES\n",
      "####################################################\n",
      "u_aux = np.zeros([nx,ny])\n",
      "u = np.zeros([nx,ny])\n",
      "all_sims = np.zeros([NumSteps, nx, ny])\n",
      "\n",
      "# Now, set the initial conditions (ui).\n",
      "for i in range(nx):\n",
      "  for j in range(ny):\n",
      "    C1 = (i*dx-0.5)**2+(j*dy-0.5)**2 <= Re\n",
      "    C2 = (i*dx-0.5)**2+(j*dy-0.5)**2 >= Ri\n",
      "    if C1 and C2 : \n",
      "      u_aux[i,j] = 1\n",
      "\n",
      "####################################################\n",
      "# UPDATE THE VARIABLES\n",
      "####################################################\n",
      "for n in xrange(NumSteps):\n",
      "  evolve(u, u_aux, D, dt, dx2, dy2)\n",
      "  u_aux = u\n",
      "  all_sims[n,:,:] = u\n",
      "\n",
      "####################################################\n",
      "# UPDATE THE VARIABLES\n",
      "####################################################\n",
      "animate(all_sims)\n"
     ],
     "language": "python",
     "metadata": {},
     "outputs": [],
     "prompt_number": 9
    },
    {
     "cell_type": "code",
     "collapsed": false,
     "input": [],
     "language": "python",
     "metadata": {},
     "outputs": [],
     "prompt_number": 3
    }
   ],
   "metadata": {}
  }
 ]
}