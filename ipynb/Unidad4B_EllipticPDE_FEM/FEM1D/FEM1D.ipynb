{
 "metadata": {
  "name": ""
 },
 "nbformat": 3,
 "nbformat_minor": 0,
 "worksheets": [
  {
   "cells": [
    {
     "cell_type": "markdown",
     "metadata": {},
     "source": [
      "***\n",
      "### DISCLAIMER ###\n",
      "\n",
      "El presente ipython notebook ha sido creado para el curso **ILI286 - Computaci\u00f3n Cient\u00edfica 2**, del [Departamento de Inform\u00e1tica](http://www.inf.utfsm.cl/), [Universidad T\u00e9cnica Federico Santa Mar\u00eda](http://www.utfsm.cl/). \n",
      "\n",
      "El material ha sido creado por Claudio Torres y Sebastian Flores, y es distribuido sin restricciones. En caso de encontrar un error, por favor no dude en contactarnos.\n",
      "\n",
      "***"
     ]
    },
    {
     "cell_type": "markdown",
     "metadata": {},
     "source": [
      "# FEM en 1D #"
     ]
    },
    {
     "cell_type": "markdown",
     "metadata": {},
     "source": [
      "## El problema ##\n",
      "\n",
      "Deseamos solucionar el siguiente problema\n",
      "\\begin{align*}\n",
      "\\frac{d^2u}{dx^2}(x) + \\frac{du}{dx}(x) = f(x) \\ , \\ x \\in [0,1] \\\\\n",
      "\\end{align*}\n",
      "\n",
      "\\begin{align*}\n",
      "u(0) = u(1) = 0\n",
      "\\end{align*}"
     ]
    },
    {
     "cell_type": "markdown",
     "metadata": {},
     "source": [
      "## Formulaci\u00f3n Variacional ##\n",
      "\n",
      "Hallar $u(x) \\in V \\ \\ $ tal que\n",
      "\\begin{align*}\n",
      "\\int_0^1 \\frac{du(x)}{dx} \\frac{dv(x)}{dx} dx +  \\int_0^1 u(x) v(x) dx =  \\int_0^1 f(x) v(x) dx  \\forall v \\in V\n",
      "\\end{align*}\n",
      "\n",
      "## Formulaci\u00f3n Variacional en espacio de dimensi\u00f3n finita ##\n",
      "\n",
      "El problema de hallar $u(x) \\in V_h \\ \\ $ tal que\n",
      "\\begin{align*}\n",
      "\\int_0^1 \\frac{du(x)}{dx} \\frac{dv(x)}{dx} dx +  \\int_0^1 u(x) v(x) dx =  \\int_0^1 f(x) v(x) dx  \\forall v \\in V_h\n",
      "\\end{align*}\n",
      "es equivalente a buscar los coeficientes $c_i$ tales que ..."
     ]
    },
    {
     "cell_type": "markdown",
     "metadata": {},
     "source": [
      "## Soluci\u00f3n num\u00e9rica ##\n"
     ]
    },
    {
     "cell_type": "code",
     "collapsed": false,
     "input": [
      "import numpy as np\n",
      "from scipy.sparse.linalg import spsolve as solve\n",
      "from scipy.sparse import dia_matrix\n",
      "from matplotlib import pyplot as plt\n",
      "\n",
      "f1 = lambda x: 0*x\n",
      "P1 = {\"f\":f1, \"a\":0, \"b\":1}\n",
      "u1 = lambda x: 0*x\n",
      "P1_sol = {\"u\": u1}\n",
      "\n",
      "f2 = lambda x: x**2 - x - 2 \n",
      "P2 = {\"f\":f2, \"a\":0, \"b\":1}\n",
      "u2 = lambda x: x*(x-1)\n",
      "P2_sol = {\"u\": u2}\n",
      "\n",
      "f3 = lambda x: np.exp(-(x-.5)**2)\n",
      "P3 = {\"f\":f3, \"a\":0, \"b\":1}\n",
      "P3_sol = {\"u\": None}\n",
      "\n",
      "f4 = lambda x: np.where(x<=.5, 0, 1)\n",
      "P4 = {\"f\":f4, \"a\":0, \"b\":1}\n",
      "P4_sol = {\"u\": None}\n",
      "\n",
      "def FEM(P, N=5):\n",
      "    # Parameters\n",
      "    x = np.linspace(P[\"a\"], P[\"b\"], N+2)\n",
      "    dx = x[1]-x[0]\n",
      "    # Matrix K\n",
      "    diag = (2./dx + 2.*dx/3.)*np.ones(N)\n",
      "    udiag = (-1./dx + dx/6.)*np.ones(N)\n",
      "    ldiag = udiag\n",
      "    K = dia_matrix(([ldiag, diag, udiag], [-1, 0,+1]), shape=(N, N))\n",
      "    # Right hand side\n",
      "    b = dx*P[\"f\"](x[1:-1])\n",
      "    # Return the solution\n",
      "    c = solve(K, b)\n",
      "    return x, c\n",
      "\n",
      "def fix_lims():\n",
      "    ax = plt.gca()\n",
      "    xmin, xmax = ax.get_xlim()\n",
      "    d = 0.01*(xmax-xmin)\n",
      "    ax.set_xlim([xmin-d, xmax+d])\n",
      "    ymin, ymax = ax.get_ylim()\n",
      "    d = 0.1*(ymax-ymin)\n",
      "    ax.set_ylim([ymin-d, ymax+d])\n",
      "    return\n",
      "\n",
      "def plot(x, c, P, P2_sol):\n",
      "    x_true = np.linspace(x[0], x[-1], 10*len(x))\n",
      "    u_true = P2_sol[\"u\"](x_true) if P2_sol[\"u\"] else None\n",
      "    f_true = P[\"f\"](x_true)\n",
      "    # Plot the f function\n",
      "    plt.subplot(2,1,1)\n",
      "    plt.plot(x_true, f_true, \"r\", label=\"$f(x)$\", lw=2.0) \n",
      "    plt.ylabel(\"$f(x)$\", fontsize=20)\n",
      "    fix_lims()\n",
      "    plt.legend(loc=\"upper left\")\n",
      "    # Plot real solution\n",
      "    plt.subplot(2,1,2)\n",
      "    if u_true is not None:\n",
      "        plt.plot(x_true, u_true, 'k:', label=\"$u(x)$\", lw=2.0) \n",
      "    # Plot obtained solution\n",
      "    u = np.zeros(len(x))\n",
      "    u[1:-1] = c\n",
      "    plt.plot(x, u, 'o-', label=\"$u_h(x)$\", lw=1.0) \n",
      "    # Label it\n",
      "    plt.legend(loc=\"upper left\")\n",
      "    plt.xlabel(\"$x$\", fontsize=20)\n",
      "    plt.ylabel(\"$u(x)$\", fontsize=20)\n",
      "    fix_lims()\n",
      "    # Show it\n",
      "    plt.show()"
     ],
     "language": "python",
     "metadata": {},
     "outputs": [],
     "prompt_number": 1
    },
    {
     "cell_type": "code",
     "collapsed": false,
     "input": [
      "P, P_sol = P4, P4_sol\n",
      "x, c = FEM(P, N=15)\n",
      "plot(x, c, P, P_sol)"
     ],
     "language": "python",
     "metadata": {},
     "outputs": [],
     "prompt_number": 7
    },
    {
     "cell_type": "code",
     "collapsed": false,
     "input": [],
     "language": "python",
     "metadata": {},
     "outputs": [],
     "prompt_number": 2
    }
   ],
   "metadata": {}
  }
 ]
}