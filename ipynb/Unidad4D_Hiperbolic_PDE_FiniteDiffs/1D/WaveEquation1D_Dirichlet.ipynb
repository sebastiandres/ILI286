{
 "metadata": {
  "name": "WaveEquation1D_Dirichlet"
 },
 "nbformat": 3,
 "nbformat_minor": 0,
 "worksheets": [
  {
   "cells": [
    {
     "cell_type": "markdown",
     "metadata": {},
     "source": [
      "# Ecuaci\u00f3n de Onda 1D #\n",
      "\n",
      "Consideremos la siguiente EDP hiperb\u00f3lica, para $ x \\in [a,b] \\ \\ $ y $t \\in [0,T_{max}] \\ \\ $:\n",
      "\\begin{align*}\n",
      "u_{tt}(x,t) = c u_{xx}(x,t)\n",
      "\\end{align*}\n",
      "\\begin{align*}\n",
      "u(x,0) = f(x)\n",
      "\\end{align*}\n",
      "\\begin{align*}\n",
      "u_t(x,0) = g(x)\n",
      "\\end{align*}\n",
      "\\begin{align*}\n",
      "u(a,t) = l(t)\n",
      "\\end{align*}\n",
      "\\begin{align*}\n",
      "u(b,t) = r(t)\n",
      "\\end{align*}\n",
      "\n",
      "## Forward Difference con condici\u00f3n de borde de Dirichlet ##"
     ]
    },
    {
     "cell_type": "code",
     "collapsed": false,
     "input": [
      "import numpy as np\n",
      "import plot\n",
      "\n",
      "def wave_equation_forward_differences(P, Nx, Nt):\n",
      "    \"\"\"\n",
      "    Solves the heat equation using forward differences\n",
      "    \"\"\"\n",
      "    x = np.linspace(P[\"xmin\"], P[\"xmax\"], Nx)\n",
      "    t = np.linspace(P[\"tmin\"], P[\"tmax\"], Nt)\n",
      "    dx = x[1]-x[0]\n",
      "    dt = t[1]-t[0]\n",
      "    S2 = (P[\"c\"]*dt/dx)**2\n",
      "    print \"CFL condition: (c*dt/dx)^2 = %.4f <= 1.0 ?\" %S2\n",
      "    # Storage\n",
      "    u = np.zeros((Nx, Nt))\n",
      "    # Time Loop\n",
      "    i = np.arange(1,Nx-1)\n",
      "    for j, tj in enumerate(t):\n",
      "        if j==0:\n",
      "            u[:,0] = P[\"f\"](x)\n",
      "            u[ 0,0] = P[\"l\"](tj)\n",
      "            u[-1,0] = P[\"r\"](tj)\n",
      "        elif j==1:\n",
      "            u[i, j] = .5*S2*u[i+1,j-1] + (1-S2)*u[i,j-1] + .5*S2*u[i-1,j-1] - dt*P[\"g\"](x[i])\n",
      "            u[ 0,1] = P[\"l\"](tj)\n",
      "            u[-1,1] = P[\"r\"](tj)\n",
      "        else:\n",
      "            u[i, j] = S2*u[i+1,j-1] + (2-2*S2)*u[i,j-1] + S2*u[i-1,j-1] - u[i,j-2]\n",
      "            u[ 0,j] = P[\"l\"](tj)\n",
      "            u[-1,j] = P[\"r\"](tj)\n",
      "    return x, t, u"
     ],
     "language": "python",
     "metadata": {},
     "outputs": [],
     "prompt_number": 27
    },
    {
     "cell_type": "markdown",
     "metadata": {},
     "source": [
      "## Tests ##"
     ]
    },
    {
     "cell_type": "code",
     "collapsed": false,
     "input": [
      "shift = lambda x : np.where(x<=0.4, 0., 1.)*np.where(x>=0.6, 0., 1.)\n",
      "\n",
      "f1 = lambda x: np.sin(5*2*np.pi*x) * shift(x)\n",
      "g1 = lambda x: 0\n",
      "l1 = lambda t: 0*t\n",
      "r1 = lambda t: 0*t\n",
      "P1 = {\"xmin\":0, \"xmax\":1, \"tmin\":0, \"tmax\":1, \"c\":1.0, \n",
      "      \"f\":f1, \"g\":g1, \"l\":l1, \"r\":r1}\n",
      "\n",
      "f2 = lambda x: np.sin(5*2*np.pi*x)\n",
      "g2 = lambda x: np.cos(5*2*np.pi*x)\n",
      "l2 = lambda t: 0*t\n",
      "r2 = lambda t: 0*t\n",
      "P2 = {\"xmin\":0, \"xmax\":1, \"tmin\":0, \"tmax\":1, \"c\":1.0, \n",
      "      \"f\":f2, \"g\":g2, \"l\":l2, \"r\":r2}\n",
      "\n",
      "f3 = lambda x: np.sin(2*np.pi*x)\n",
      "g3 = lambda x: 2*np.pi*np.cos(2*np.pi*x)\n",
      "l3 = lambda t: 0*t\n",
      "r3 = lambda t: 0*t\n",
      "P3 = {\"xmin\":0, \"xmax\":1, \"tmin\":0, \"tmax\":1, \"c\":1., \n",
      "      \"f\":f3, \"g\":g3, \"l\":l3, \"r\":r3}\n",
      "\n",
      "f4 = lambda x: np.exp(-(x-.5)**2/0.01)\n",
      "g4 = lambda x: 0*x\n",
      "l4 = lambda t: t\n",
      "r4 = lambda t: t\n",
      "P4 = {\"xmin\":0, \"xmax\":1, \"tmin\":0, \"tmax\":1, \"c\":1., \n",
      "      \"f\":f4, \"g\":g4, \"l\":l4, \"r\":r4}"
     ],
     "language": "python",
     "metadata": {},
     "outputs": [],
     "prompt_number": 37
    },
    {
     "cell_type": "markdown",
     "metadata": {},
     "source": [
      "## Sandbox ##"
     ]
    },
    {
     "cell_type": "code",
     "collapsed": false,
     "input": [
      "P = P4\n",
      "#x, t, u = wave_equation_forward_differences(P, 40, 20) # Unstable\n",
      "#x, t, u = wave_equation_forward_differences(P, 40, 40) # Stable\n",
      "x, t, u = wave_equation_forward_differences(P, 100, 100) # Stable\n",
      "\n",
      "plot.show(x,t,u)"
     ],
     "language": "python",
     "metadata": {},
     "outputs": [
      {
       "output_type": "stream",
       "stream": "stdout",
       "text": [
        "CFL condition: (c*dt/dx)^2 = 1.0000 <= 1.0 ?\n"
       ]
      }
     ],
     "prompt_number": 43
    },
    {
     "cell_type": "code",
     "collapsed": false,
     "input": [],
     "language": "python",
     "metadata": {},
     "outputs": [],
     "prompt_number": 11
    }
   ],
   "metadata": {}
  }
 ]
}