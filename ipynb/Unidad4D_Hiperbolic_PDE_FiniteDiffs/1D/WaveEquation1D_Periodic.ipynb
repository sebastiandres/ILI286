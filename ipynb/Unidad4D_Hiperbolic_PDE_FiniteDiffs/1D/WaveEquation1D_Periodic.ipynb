{
 "metadata": {
  "name": "WaveEquation1D_Periodic"
 },
 "nbformat": 3,
 "nbformat_minor": 0,
 "worksheets": [
  {
   "cells": [
    {
     "cell_type": "markdown",
     "metadata": {},
     "source": [
      "# Ecuaci\u00f3n de Ondas 1D #\n",
      "\n",
      "Consideremos la siguiente EDP hiperb\u00f3lica, para $ x \\in [a,b]\\ \\ $ y $t \\in [0,T_{max}] \\ \\ $:\n",
      "\\begin{align*}\n",
      "u_{tt}(x,t) = c u_{xx}(x,t)\n",
      "\\end{align*}\n",
      "\\begin{align*}\n",
      "u(x,0) = f(x)\n",
      "\\end{align*}\n",
      "\\begin{align*}\n",
      "u_t(x,0) = g(x)\n",
      "\\end{align*}\n",
      "\\begin{align*}\n",
      "u(-x,t) = u(1-x,t)\n",
      "\\end{align*}\n",
      "\n",
      "\n",
      "La condici\u00f3n de frontera es peri\u00f3dica, esto es, estudiamos la evoluci\u00f3n de la temperatura en un anillo,\n",
      "por lo que consideramos que para $u(-x,t) = u(1-x,t)$\n",
      "\n",
      "## Forward (Explicit) Difference con Condici\u00f3n de Borde Peri\u00f3dica ##"
     ]
    },
    {
     "cell_type": "code",
     "collapsed": false,
     "input": [
      "import numpy as np\n",
      "import plot\n",
      "\n",
      "def wave_equation_forward_differences(P, Nx, Nt):\n",
      "    \"\"\"\n",
      "    Solves the heat equation using forward differences\n",
      "    \"\"\"\n",
      "    x = np.linspace(P[\"xmin\"], P[\"xmax\"], Nx)\n",
      "    t = np.linspace(P[\"tmin\"], P[\"tmax\"], Nt)\n",
      "    dx = x[1]-x[0]\n",
      "    dt = t[1]-t[0]\n",
      "    S2 = (P[\"c\"]*dt/dx)**2\n",
      "    print \"CFL condition: (c*dt/dx)^2 = %.4f <= 1.0 ?\" %S2\n",
      "    # Storage\n",
      "    u = np.zeros((Nx, Nt))\n",
      "    # Time Loop\n",
      "    i = np.arange(1,Nx-1)\n",
      "    for j, tj in enumerate(t):\n",
      "        if j==0:\n",
      "            u[:,0] = P[\"f\"](x)\n",
      "        elif j==1:\n",
      "            u[ i,1] = .5*S2*u[i+1,0] + (1-S2)*u[ i,0] + .5*S2*u[i-1,0] - dt*P[\"g\"](x[ i])\n",
      "            u[ 0,1] = .5*S2*u[  1,0] + (1-S2)*u[ 0,0] + .5*S2*u[ -2,0] - dt*P[\"g\"](x[ 0])\n",
      "            u[-1,1] = .5*S2*u[  1,0] + (1-S2)*u[-1,0] + .5*S2*u[ -2,0] - dt*P[\"g\"](x[-1])\n",
      "        else:\n",
      "            u[i, j] = S2*u[i+1,j-1] + (2-2*S2)*u[ i,j-1] + S2*u[i-1,j-1] - u[ i,j-2]\n",
      "            u[ 0,j] = S2*u[  1,j-1] + (2-2*S2)*u[ 0,j-1] + S2*u[ -2,j-1] - u[ 0,j-2]\n",
      "            u[-1,j] = S2*u[  1,j-1] + (2-2*S2)*u[-1,j-1] + S2*u[ -2,j-1] - u[-1,j-2]\n",
      "    return x, t, u"
     ],
     "language": "python",
     "metadata": {},
     "outputs": [],
     "prompt_number": 9
    },
    {
     "cell_type": "markdown",
     "metadata": {},
     "source": [
      "## Tests ##"
     ]
    },
    {
     "cell_type": "code",
     "collapsed": false,
     "input": [
      "shift = lambda x : np.where(x<=0.4, 0., 1.)*np.where(x>=0.6, 0., 1.)\n",
      "\n",
      "f1 = lambda x: np.sin(2*np.pi*x)\n",
      "g1 = lambda x: 2*np.pi*np.cos(2*np.pi*x)\n",
      "P1 = {\"xmin\":0, \"xmax\":1, \"tmin\":0, \"tmax\":1, \"c\":1., \n",
      "      \"f\":f1, \"g\":g1}    \n",
      "\n",
      "f2 = lambda x: np.sin(2*np.pi*x)\n",
      "g2 = lambda x: 0\n",
      "P2 = {\"xmin\":0, \"xmax\":1, \"tmin\":0, \"tmax\":1, \"c\":1., \n",
      "      \"f\":f2, \"g\":g2}\n",
      "\n",
      "f3 = lambda x: np.sin(5*2*np.pi*x) * shift(x)\n",
      "g3 = lambda x: 0\n",
      "P3 = {\"xmin\":0, \"xmax\":1, \"tmin\":0, \"tmax\":1, \"c\":1.0, \n",
      "      \"f\":f3, \"g\":g3}\n",
      "\n",
      "f4 = lambda x: np.exp(-(x-.5)**2/0.01)\n",
      "g4 = lambda x: 0*x\n",
      "P4 = {\"xmin\":0, \"xmax\":1, \"tmin\":0, \"tmax\":1, \"c\":1., \n",
      "      \"f\":f4, \"g\":g4}"
     ],
     "language": "python",
     "metadata": {},
     "outputs": [],
     "prompt_number": 31
    },
    {
     "cell_type": "markdown",
     "metadata": {},
     "source": [
      "## Sandbox ##"
     ]
    },
    {
     "cell_type": "code",
     "collapsed": false,
     "input": [
      "P = P3\n",
      "x, t, u = wave_equation_forward_differences(P, 40, 20) # Unstable\n",
      "#x, t, u = wave_equation_forward_differences(P, 40, 40) # Stable\n",
      "#x, t, u = wave_equation_forward_differences(P, 100, 100) # Stable\n",
      "\n",
      "plot.show(x,t,u)"
     ],
     "language": "python",
     "metadata": {},
     "outputs": [
      {
       "output_type": "stream",
       "stream": "stdout",
       "text": [
        "CFL condition: (c*dt/dx)^2 = 4.2133 <= 1.0 ?\n"
       ]
      }
     ],
     "prompt_number": 35
    },
    {
     "cell_type": "code",
     "collapsed": false,
     "input": [],
     "language": "python",
     "metadata": {},
     "outputs": [],
     "prompt_number": 11
    }
   ],
   "metadata": {}
  }
 ]
}