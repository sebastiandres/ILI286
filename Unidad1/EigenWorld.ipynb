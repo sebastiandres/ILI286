{
 "metadata": {
  "name": ""
 },
 "nbformat": 3,
 "nbformat_minor": 0,
 "worksheets": [
  {
   "cells": [
    {
     "cell_type": "heading",
     "level": 1,
     "metadata": {},
     "source": [
      "Valores y Vectores Propios - Algoritmos"
     ]
    },
    {
     "cell_type": "heading",
     "level": 2,
     "metadata": {},
     "source": [
      "Librer\u00edas utilizadas durante la clase"
     ]
    },
    {
     "cell_type": "code",
     "collapsed": false,
     "input": [
      "import numpy as np\n",
      "from scipy import linalg\n",
      "from matplotlib import pyplot as plt"
     ],
     "language": "python",
     "metadata": {},
     "outputs": [],
     "prompt_number": 29
    },
    {
     "cell_type": "markdown",
     "metadata": {},
     "source": [
      "## Matriz y vector test ##"
     ]
    },
    {
     "cell_type": "code",
     "collapsed": false,
     "input": [
      "A = np.array([[1,3],[2,2]])\n",
      "x = np.array([[-5.],[5.]])\n",
      "default_verbose = True"
     ],
     "language": "python",
     "metadata": {},
     "outputs": [],
     "prompt_number": 30
    },
    {
     "cell_type": "heading",
     "level": 2,
     "metadata": {},
     "source": [
      "Descomposici\u00f3n matricial:\n",
      "$ A V = V \\Lambda $ o bien si $V$ es invertible,  $ A = V \\Lambda V^{-1} $"
     ]
    },
    {
     "cell_type": "code",
     "collapsed": false,
     "input": [
      "def eigenvalue_decomposition(A):\n",
      "    return None\n",
      "\n",
      "eigenvalue_decomposition(A)"
     ],
     "language": "python",
     "metadata": {},
     "outputs": [],
     "prompt_number": 31
    },
    {
     "cell_type": "markdown",
     "metadata": {},
     "source": [
      "## Power Iteration ##\n",
      "A continuaci\u00f3n se entrega el c\u00f3digo del algoritmo de power iteration. Pruebe cambiando las matrices y los par\u00e1metros del algoritmo."
     ]
    },
    {
     "cell_type": "code",
     "collapsed": false,
     "input": [
      "def powerit(A, x, k, verbose=default_verbose):\n",
      "  \"\"\"\n",
      "  Program 12.1 Power iteration\n",
      "  Computes dominant eigenvector of square matrix\n",
      "  Input: matrix A, initial (nonzero) vector x, number of steps k\n",
      "  Output: dominant eigenvalue lam, eigenvector u\n",
      "  \"\"\"\n",
      "  if verbose: print \"Power Iteration Method\\n%s\"%('='*80)\n",
      "  for j in range(k):\n",
      "    u = x/norm(x)\n",
      "    x = np.dot(A, u)\n",
      "    lam = float(np.dot(u.T, x))\n",
      "    if verbose: print \"k=%d, lambda=%+.3f, u=%s\"%(j,lam,str(u.T)) \n",
      "  u = x/norm(x)\n",
      "  if verbose: print \"k=%d, lambda=%+.3f, u=%s\\n\"%(j+1,lam,str(u.T)) \n",
      "  return lam, u\n",
      "        \n",
      "# Testing algorithm\n",
      "powerit(A, x, 5)"
     ],
     "language": "python",
     "metadata": {},
     "outputs": [
      {
       "output_type": "stream",
       "stream": "stdout",
       "text": [
        "Power Iteration Method\n",
        "================================================================================\n",
        "k=0, lambda=-1.000, u=[[-0.70710678  0.70710678]]\n",
        "k=1, lambda=+1.000, u=[[ 1.  0.]]\n",
        "k=2, lambda=+3.800, u=[[ 0.4472136   0.89442719]]\n",
        "k=3, lambda=+3.894, u=[[ 0.7592566   0.65079137]]\n",
        "k=4, lambda=+4.018, u=[[ 0.69310872  0.72083306]]\n",
        "k=5, lambda=+4.018, u=[[ 0.71054763  0.70364911]]\n",
        "\n"
       ]
      },
      {
       "metadata": {},
       "output_type": "pyout",
       "prompt_number": 32,
       "text": [
        "(4.017678708685626, array([[ 0.71054763],\n",
        "       [ 0.70364911]]))"
       ]
      }
     ],
     "prompt_number": 32
    },
    {
     "cell_type": "markdown",
     "metadata": {},
     "source": [
      "## Inverse Power Iteration ##\n"
     ]
    },
    {
     "cell_type": "code",
     "collapsed": false,
     "input": [
      "def invpowerit(A, x, s, k, verbose=default_verbose):\n",
      "  \"\"\"\n",
      "  Program 12.2 Inverse Power iteration\n",
      "  Computes eigenvector of square matrix nearest to input s\n",
      "  Input: matrix A, initial (nonzero) vector x, shift s, number of steps k\n",
      "  Output: dominant eigenvalue lam, eigenvector of inv(A-sI)\n",
      "  \"\"\"\n",
      "  if verbose: print \"Inverse Power Iteration Method\\n%s\"%('='*80)\n",
      "  As = A - s*np.eye(*A.shape)\n",
      "  for j in range(k):\n",
      "    u = x/norm(x)\n",
      "    x = solve(As, u)\n",
      "    lam = float(np.dot(u.T, x))\n",
      "    if verbose: print \"k=%d, lambda=%+.3f, u=%s\"%(j,1./lam+s,str(u.T)) \n",
      "  u = x/norm(x)\n",
      "  if verbose: print \"k=%d, lambda=%+.3f, u=%s\\n\"%(j+1,1./lam+s,str(u.T)) \n",
      "  return 1./lam+s, u\n",
      "\n",
      "# Testing algoritm\n",
      "invpowerit(A, x, s=1./4, k=10)"
     ],
     "language": "python",
     "metadata": {},
     "outputs": [
      {
       "output_type": "stream",
       "stream": "stdout",
       "text": [
        "Inverse Power Iteration Method\n",
        "================================================================================\n",
        "k=0, lambda=-1.000, u=[[-0.70710678  0.70710678]]\n",
        "k=1, lambda=-1.028, u=[[ 0.86542629 -0.50103627]]\n",
        "k=2, lambda=-0.994, u=[[-0.81995808  0.57242357]]\n",
        "k=3, lambda=-1.002, u=[[ 0.83597439 -0.54876846]]\n",
        "k=4, lambda=-0.999, u=[[-0.83073037  0.55667499]]\n",
        "k=5, lambda=-1.000, u=[[ 0.83248895 -0.55404165]]\n",
        "k=6, lambda=-1.000, u=[[-0.83190393  0.55491968]]\n",
        "k=7, lambda=-1.000, u=[[ 0.83209907 -0.55462703]]\n",
        "k=8, lambda=-1.000, u=[[-0.83203404  0.55472458]]\n",
        "k=9, lambda=-1.000, u=[[ 0.83205571 -0.55469207]]\n",
        "k=10, lambda=-1.000, u=[[-0.83204849  0.55470291]]\n",
        "\n"
       ]
      },
      {
       "metadata": {},
       "output_type": "pyout",
       "prompt_number": 33,
       "text": [
        "(-1.000003256908873, array([[-0.83204849],\n",
        "       [ 0.55470291]]))"
       ]
      }
     ],
     "prompt_number": 33
    },
    {
     "cell_type": "markdown",
     "metadata": {},
     "source": [
      "## Raleight Quotient Iteration ##\n",
      "\n",
      "A continuaci\u00f3n se entrega el c\u00f3digo del algoritmo de Raleight Quotient Iteration. \n",
      "\n",
      "Pruebe cambiando las matrices y los par\u00e1metros del algoritmo."
     ]
    },
    {
     "cell_type": "code",
     "collapsed": false,
     "input": [
      "def rqi(A, x, k, verbose=default_verbose):\n",
      "  \"\"\"\n",
      "  Program 12.3 Rayleigh Quotient Iteration\n",
      "  Input: matrix A, initial (nonzero) vector x, number of steps k\n",
      "  Output: eigenvalue lam, eigenvector of inv(A-sI)\n",
      "  \"\"\"\n",
      "  if verbose: print \"Rayleigh Quotient Iteration\\n%s\"%('='*80)\n",
      "  for j in range(k):\n",
      "    u = x/norm(x)\n",
      "    lam = float(np.dot(u.T, np.dot(A, u)))\n",
      "    x = solve(A -lam*np.eye(*A.shape), u)\n",
      "    if verbose: print \"k=%d, lambda=%+.3f, u=%s\"%(j,lam,str(u.T)) \n",
      "  u = x/norm(x)\n",
      "  lam = float(np.dot(u.T, np.dot(A, u)))\n",
      "  if verbose: print \"k=%d, lambda=%+.3f, u=%s\\n\"%(j+1,lam,str(u.T)) \n",
      "  return lam, u\n",
      "\n",
      "# Testing algorithm\n",
      "rqi(A, x, k=1)"
     ],
     "language": "python",
     "metadata": {},
     "outputs": [
      {
       "output_type": "stream",
       "stream": "stdout",
       "text": [
        "Rayleigh Quotient Iteration\n",
        "================================================================================\n",
        "k=0, lambda=-1.000, u=[[-0.70710678  0.70710678]]\n",
        "k=1, lambda=-1.000, u=[[ 0.83205029 -0.5547002 ]]\n",
        "\n"
       ]
      },
      {
       "metadata": {},
       "output_type": "pyout",
       "prompt_number": 34,
       "text": [
        "(-1.0, array([[ 0.83205029],\n",
        "       [-0.5547002 ]]))"
       ]
      }
     ],
     "prompt_number": 34
    },
    {
     "cell_type": "markdown",
     "metadata": {},
     "source": [
      "## Scipy Eigenvalue ##\n",
      "La librer\u00eda scipy tiene implementados algoritmos que permite calcular los valores y vectores propios. Las opciones posibles son:\n",
      "\n",
      "  - En la librer\u00eda scipy.linalg: eigvals/eigvalsh/eigvals_banded, eig/eigh/eig_banded, \n",
      "\n",
      "  - En la librer\u00eda scipy.sparse.linalg: eigen, eigs, eigsh. \n",
      "  \n",
      "En general siempre conviene utilizar las funciones desde scipy y no de numpy. La librer\u00eda numpy hace un excelente trabajo al permitir el uso de vectores de tipo num\u00e9rico, pero contiene solo algunos algoritmos num\u00e9ricos y no necesariamente los m\u00e1s r\u00e1pidos.\n",
      "\n",
      "A continuaci\u00f3n mostraremos como utilizar algunas de estas funciones."
     ]
    },
    {
     "cell_type": "code",
     "collapsed": false,
     "input": [
      "# Full matrices\n",
      "from scipy import linalg as LA\n",
      "N = 3\n",
      "Aux = np.random.rand(N,N)\n",
      "A = Aux + Aux.T # symmetric, so we'll deal with real eigs.\n",
      "print LA.eigvals(A) # Only the eigenvalues, A not necessarily symmetric\n",
      "print LA.eigvalsh(A) # Only the eigenvalues, A symmetric \n",
      "print LA.eig(A)     # All the eigenvalues and eigenvectors, A not necessarily symmetric\n",
      "print LA.eigh(A)    # All the eigenvalues and eigenvectors, A symmetric (faster)"
     ],
     "language": "python",
     "metadata": {},
     "outputs": [
      {
       "output_type": "stream",
       "stream": "stdout",
       "text": [
        "[ 3.51181815+0.j  0.86872626+0.j -0.53887833+0.j]\n",
        "[-0.53887833  0.86872626  3.51181815]\n",
        "(array([ 3.51181815+0.j,  0.86872626+0.j, -0.53887833+0.j]), array([[ 0.64172667,  0.75468692,  0.13650835],\n",
        "       [ 0.60574809, -0.38959527, -0.69374691],\n",
        "       [ 0.47037871, -0.52788557,  0.70716384]]))\n",
        "(array([-0.53887833,  0.86872626,  3.51181815]), array([[ 0.13650835,  0.75468692,  0.64172667],\n",
        "       [-0.69374691, -0.38959527,  0.60574809],\n",
        "       [ 0.70716384, -0.52788557,  0.47037871]]))\n"
       ]
      }
     ],
     "prompt_number": 40
    },
    {
     "cell_type": "code",
     "collapsed": false,
     "input": [],
     "language": "python",
     "metadata": {},
     "outputs": []
    }
   ],
   "metadata": {}
  }
 ]
}